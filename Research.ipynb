{
 "cells": [
  {
   "cell_type": "code",
   "execution_count": 1,
   "id": "a036d5bc",
   "metadata": {},
   "outputs": [],
   "source": [
    "from pyspark.sql import SparkSession\n",
    "import pyspark.sql.functions as fn"
   ]
  },
  {
   "cell_type": "code",
   "execution_count": 2,
   "id": "86e06e59",
   "metadata": {},
   "outputs": [],
   "source": [
    "spark = SparkSession.builder.appName(\"research\").getOrCreate()"
   ]
  },
  {
   "cell_type": "code",
   "execution_count": 3,
   "id": "a30fe821",
   "metadata": {},
   "outputs": [
    {
     "name": "stdout",
     "output_type": "stream",
     "text": [
      "<pyspark.sql.session.SparkSession object at 0x000001DA5AD38E50>\n"
     ]
    }
   ],
   "source": [
    "print(spark)"
   ]
  },
  {
   "cell_type": "code",
   "execution_count": 5,
   "id": "3604e59a",
   "metadata": {},
   "outputs": [],
   "source": [
    "statsCountryDf = spark.read.option(\"header\",True).csv(\"AssignmentData/HNP_StatsCountry.csv\")\n",
    "statsSeriesCountryDf = spark.read.option(\"header\",True).csv(\"AssignmentData/HNP_StatsCountry-Series.csv\")\n",
    "statsDataDf = spark.read.option(\"header\",True).csv(\"AssignmentData/HNP_StatsData.csv\")\n",
    "statsFootNoteDf = spark.read.option(\"header\",True).csv(\"AssignmentData/HNP_StatsFootNote.csv\")\n",
    "statsSeriesDf = spark.read.option(\"header\",True).csv(\"AssignmentData/HNP_StatsSeries.csv\")\n",
    "statsSeriesTimeDf = spark.read.option(\"header\",True).csv(\"AssignmentData/HNP_StatsSeries-Time.csv\")"
   ]
  },
  {
   "cell_type": "code",
   "execution_count": 7,
   "id": "d24be7db",
   "metadata": {},
   "outputs": [],
   "source": [
    "testdf = spark.read.option(\"header\",True).csv(\"sample_submission.csv\")"
   ]
  },
  {
   "cell_type": "code",
   "execution_count": 8,
   "id": "107494f0",
   "metadata": {},
   "outputs": [
    {
     "data": {
      "text/plain": [
       "['MachineIdentifier', 'HasDetections']"
      ]
     },
     "execution_count": 8,
     "metadata": {},
     "output_type": "execute_result"
    }
   ],
   "source": [
    "testdf.columns"
   ]
  },
  {
   "cell_type": "code",
   "execution_count": 39,
   "id": "dd67aa1d",
   "metadata": {},
   "outputs": [],
   "source": [
    "\n",
    "df = statsSeriesTimeDf\n",
    "df.columns\n",
    "col = 'Year'"
   ]
  },
  {
   "cell_type": "code",
   "execution_count": 42,
   "id": "c5e61769",
   "metadata": {},
   "outputs": [
    {
     "data": {
      "text/plain": [
       "Row(max(Year)='YR2020')"
      ]
     },
     "execution_count": 42,
     "metadata": {},
     "output_type": "execute_result"
    }
   ],
   "source": [
    "df.agg({col: \"max\"}).collect()[0]"
   ]
  },
  {
   "cell_type": "code",
   "execution_count": 22,
   "id": "680fdcc8",
   "metadata": {},
   "outputs": [
    {
     "name": "stdout",
     "output_type": "stream",
     "text": [
      "+-------------------+--------+\n",
      "|       Income Group|count(1)|\n",
      "+-------------------+--------+\n",
      "|Lower middle income|      55|\n",
      "|               null|      54|\n",
      "|        High income|      79|\n",
      "|Upper middle income|      55|\n",
      "|         Low income|      27|\n",
      "+-------------------+--------+\n",
      "\n"
     ]
    }
   ],
   "source": [
    "tmp = df.select(col).groupBy(col).agg(\n",
    "        fn.count('*')\n",
    "    )\n",
    "\n",
    "tmp.show()\n",
    "# tmp.filter(fn.col(col).contains(\"child\")).show(40,truncate=False)"
   ]
  },
  {
   "cell_type": "code",
   "execution_count": 72,
   "id": "f0d39393",
   "metadata": {},
   "outputs": [],
   "source": [
    "tmp.coalesce(1).write.csv(\"/IndicatorNames\")"
   ]
  },
  {
   "cell_type": "code",
   "execution_count": 77,
   "id": "79620823",
   "metadata": {},
   "outputs": [
    {
     "name": "stdout",
     "output_type": "stream",
     "text": [
      "+----------------------------------------------------------------------------------+---------------------------------------------------------------------------------------------------------------------------------------------------------------------------------------------------+\n",
      "|Indicator Name                                                                    |Long definition                                                                                                                                                                                    |\n",
      "+----------------------------------------------------------------------------------+---------------------------------------------------------------------------------------------------------------------------------------------------------------------------------------------------+\n",
      "|Infant and young child feeding practices, all 3 IYCF (% children ages 6-23 months)|Percentage of children age 6-23 months fed in accordance with all three infant and young child feeding (IYCF) practices (food diversity, feeding frequency, and consumption of breast milk or milk)|\n",
      "+----------------------------------------------------------------------------------+---------------------------------------------------------------------------------------------------------------------------------------------------------------------------------------------------+\n",
      "\n"
     ]
    }
   ],
   "source": [
    "statsSeriesDf.select('Indicator Name','Long definition').filter(fn.col('Indicator Name').contains(\"Infant and young child feeding practices\")).show(truncate=False)"
   ]
  },
  {
   "cell_type": "code",
   "execution_count": 12,
   "id": "36dc8dbd",
   "metadata": {},
   "outputs": [
    {
     "data": {
      "text/plain": [
       "['Year',\n",
       " 'Seq',\n",
       " 'Glide',\n",
       " 'Disaster Group',\n",
       " 'Disaster Subgroup',\n",
       " 'Disaster Type',\n",
       " 'Disaster Subtype',\n",
       " 'Disaster Subsubtype',\n",
       " 'Event Name',\n",
       " 'Country',\n",
       " 'ISO',\n",
       " 'Region',\n",
       " 'Continent',\n",
       " 'Location',\n",
       " 'Origin',\n",
       " 'Associated Dis',\n",
       " 'Associated Dis2',\n",
       " 'OFDA Response',\n",
       " 'Appeal',\n",
       " 'Declaration',\n",
       " 'Aid Contribution',\n",
       " 'Dis Mag Value',\n",
       " 'Dis Mag Scale',\n",
       " 'Latitude',\n",
       " 'Longitude',\n",
       " 'Local Time',\n",
       " 'River Basin',\n",
       " 'Start Year',\n",
       " 'Start Month',\n",
       " 'Start Day',\n",
       " 'End Year',\n",
       " 'End Month',\n",
       " 'End Day',\n",
       " 'Total Deaths',\n",
       " 'No Injured',\n",
       " 'No Affected',\n",
       " 'No Homeless',\n",
       " 'Total Affected',\n",
       " \"Insured Damages ('000 US$)\",\n",
       " \"Total Damages ('000 US$)\",\n",
       " 'CPI',\n",
       " 'Adm Level',\n",
       " 'Admin1 Code',\n",
       " 'Admin2 Code',\n",
       " 'Geo Locations']"
      ]
     },
     "execution_count": 12,
     "metadata": {},
     "output_type": "execute_result"
    }
   ],
   "source": [
    "majorEventDf = spark.read.option(\"header\",True).csv(\"AssignmentData/ExternalSources/DISASTERS/1900_2021_DISASTERS.xlsx - emdat data.csv\")\n",
    "majorEventDf.columns"
   ]
  },
  {
   "cell_type": "code",
   "execution_count": 17,
   "id": "0b74b499",
   "metadata": {},
   "outputs": [
    {
     "name": "stdout",
     "output_type": "stream",
     "text": [
      "+--------------+--------+\n",
      "|Disaster Group|count(1)|\n",
      "+--------------+--------+\n",
      "|       Natural|   16126|\n",
      "+--------------+--------+\n",
      "\n"
     ]
    }
   ],
   "source": [
    "col = \"Disaster Group\"\n",
    "majorEventDf.groupBy(col).agg(fn.count('*')).show()\n",
    "# .agg({col: \"max\"}).collect()[0]\n"
   ]
  },
  {
   "cell_type": "code",
   "execution_count": null,
   "id": "382c76c8",
   "metadata": {},
   "outputs": [],
   "source": [
    "globalFinanceDf = spark.read.option(\"header\",True).csv(\"AssignmentData/ExternalSources/\")"
   ]
  }
 ],
 "metadata": {
  "kernelspec": {
   "display_name": "Python 3 (ipykernel)",
   "language": "python",
   "name": "python3"
  },
  "language_info": {
   "codemirror_mode": {
    "name": "ipython",
    "version": 3
   },
   "file_extension": ".py",
   "mimetype": "text/x-python",
   "name": "python",
   "nbconvert_exporter": "python",
   "pygments_lexer": "ipython3",
   "version": "3.9.10"
  }
 },
 "nbformat": 4,
 "nbformat_minor": 5
}
